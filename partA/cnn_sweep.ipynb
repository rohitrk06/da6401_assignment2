{
 "cells": [
  {
   "cell_type": "code",
   "execution_count": 2,
   "metadata": {
    "execution": {
     "iopub.execute_input": "2025-04-17T18:25:32.258532Z",
     "iopub.status.busy": "2025-04-17T18:25:32.258254Z",
     "iopub.status.idle": "2025-04-17T18:25:38.822172Z",
     "shell.execute_reply": "2025-04-17T18:25:38.821377Z",
     "shell.execute_reply.started": "2025-04-17T18:25:32.258506Z"
    },
    "trusted": true
   },
   "outputs": [],
   "source": [
    "!pip install lightning -qU\n",
    "!pip install wandb -qU"
   ]
  },
  {
   "cell_type": "code",
   "execution_count": 3,
   "metadata": {
    "execution": {
     "iopub.execute_input": "2025-04-17T18:27:47.225037Z",
     "iopub.status.busy": "2025-04-17T18:27:47.224393Z",
     "iopub.status.idle": "2025-04-17T18:28:07.374849Z",
     "shell.execute_reply": "2025-04-17T18:28:07.374080Z",
     "shell.execute_reply.started": "2025-04-17T18:27:47.225008Z"
    },
    "trusted": true
   },
   "outputs": [],
   "source": [
    "import os\n",
    "\n",
    "# torch related dependencies\n",
    "import torch\n",
    "from torch import nn\n",
    "from torch.nn import CrossEntropyLoss\n",
    "import torch.nn.functional as F\n",
    "from torchvision import transforms, datasets\n",
    "from torch.utils.data import DataLoader, random_split, Subset\n",
    "from torchmetrics.functional import accuracy\n",
    "\n",
    "#wandb\n",
    "import wandb\n",
    "\n",
    "#Lighting\n",
    "import lightning as L\n",
    "from lightning.pytorch.loggers import WandbLogger\n",
    "from lightning.pytorch  import Trainer\n",
    "from lightning.pytorch.callbacks import Callback\n",
    "from lightning.pytorch.callbacks import ModelCheckpoint\n",
    "from lightning.pytorch.callbacks.early_stopping import EarlyStopping\n"
   ]
  },
  {
   "cell_type": "code",
   "execution_count": 4,
   "metadata": {
    "execution": {
     "iopub.execute_input": "2025-04-17T18:28:07.376368Z",
     "iopub.status.busy": "2025-04-17T18:28:07.376109Z",
     "iopub.status.idle": "2025-04-17T18:28:07.379903Z",
     "shell.execute_reply": "2025-04-17T18:28:07.379116Z",
     "shell.execute_reply.started": "2025-04-17T18:28:07.376340Z"
    },
    "trusted": true
   },
   "outputs": [],
   "source": [
    "import uuid"
   ]
  },
  {
   "cell_type": "code",
   "execution_count": 5,
   "metadata": {
    "execution": {
     "iopub.execute_input": "2025-04-17T18:28:07.380876Z",
     "iopub.status.busy": "2025-04-17T18:28:07.380609Z",
     "iopub.status.idle": "2025-04-17T18:28:07.424689Z",
     "shell.execute_reply": "2025-04-17T18:28:07.424170Z",
     "shell.execute_reply.started": "2025-04-17T18:28:07.380853Z"
    },
    "trusted": true
   },
   "outputs": [],
   "source": [
    "import torch._dynamo\n",
    "torch._dynamo.config.cache_size_limit = 64"
   ]
  },
  {
   "cell_type": "code",
   "execution_count": 6,
   "metadata": {
    "execution": {
     "iopub.execute_input": "2025-04-17T18:28:12.942148Z",
     "iopub.status.busy": "2025-04-17T18:28:12.941263Z",
     "iopub.status.idle": "2025-04-17T18:28:18.868950Z",
     "shell.execute_reply": "2025-04-17T18:28:18.868321Z",
     "shell.execute_reply.started": "2025-04-17T18:28:12.942122Z"
    },
    "trusted": true
   },
   "outputs": [
    {
     "name": "stderr",
     "output_type": "stream",
     "text": [
      "\u001b[34m\u001b[1mwandb\u001b[0m: Using wandb-core as the SDK backend.  Please refer to https://wandb.me/wandb-core for more information.\n",
      "\u001b[34m\u001b[1mwandb\u001b[0m: \u001b[33mWARNING\u001b[0m If you're specifying your api key in code, ensure this code is not shared publicly.\n",
      "\u001b[34m\u001b[1mwandb\u001b[0m: \u001b[33mWARNING\u001b[0m Consider setting the WANDB_API_KEY environment variable, or running `wandb login` from the command line.\n",
      "\u001b[34m\u001b[1mwandb\u001b[0m: No netrc file found, creating one.\n",
      "\u001b[34m\u001b[1mwandb\u001b[0m: Appending key for api.wandb.ai to your netrc file: /root/.netrc\n",
      "\u001b[34m\u001b[1mwandb\u001b[0m: Currently logged in as: \u001b[33mrohitrk06\u001b[0m (\u001b[33mrohitrk06-indian-institute-of-technology-madras\u001b[0m) to \u001b[32mhttps://api.wandb.ai\u001b[0m. Use \u001b[1m`wandb login --relogin`\u001b[0m to force relogin\n"
     ]
    },
    {
     "data": {
      "text/plain": [
       "True"
      ]
     },
     "execution_count": 6,
     "metadata": {},
     "output_type": "execute_result"
    }
   ],
   "source": [
    "from kaggle_secrets import UserSecretsClient\n",
    "api_key = UserSecretsClient().get_secret('wandb_api')\n",
    "\n",
    "wandb.login(key=api_key)"
   ]
  },
  {
   "cell_type": "code",
   "execution_count": 7,
   "metadata": {
    "execution": {
     "iopub.execute_input": "2025-04-17T18:28:18.870587Z",
     "iopub.status.busy": "2025-04-17T18:28:18.870214Z",
     "iopub.status.idle": "2025-04-17T18:28:18.874280Z",
     "shell.execute_reply": "2025-04-17T18:28:18.873497Z",
     "shell.execute_reply.started": "2025-04-17T18:28:18.870569Z"
    },
    "trusted": true
   },
   "outputs": [],
   "source": [
    "train_dataset_dir = \"/kaggle/input/nature-12k/inaturalist_12K/train\"\n",
    "test_dataset_dir = \"/kaggle/input/nature-12k/inaturalist_12K/val\""
   ]
  },
  {
   "cell_type": "code",
   "execution_count": 20,
   "metadata": {
    "execution": {
     "iopub.execute_input": "2025-04-17T18:39:39.091471Z",
     "iopub.status.busy": "2025-04-17T18:39:39.091136Z",
     "iopub.status.idle": "2025-04-17T18:39:45.503432Z",
     "shell.execute_reply": "2025-04-17T18:39:45.502812Z",
     "shell.execute_reply.started": "2025-04-17T18:39:39.091444Z"
    },
    "trusted": true
   },
   "outputs": [],
   "source": [
    "train_dataset = datasets.ImageFolder(root = train_dataset_dir,\n",
    "                               transform=transforms.Compose([\n",
    "                                   transforms.Resize((256,256)),\n",
    "                                   transforms.ToTensor(),\n",
    "                               ])\n",
    "                               )\n",
    "\n",
    "test_dataset = datasets.ImageFolder(root = test_dataset_dir,\n",
    "                               transform=transforms.Compose([\n",
    "                                   transforms.Resize((256,256)),\n",
    "                                   transforms.ToTensor(),\n",
    "                               ])\n",
    "                               )\n",
    "\n",
    "train_set_size = int(len(train_dataset)*0.8)\n",
    "valid_set_size = len(train_dataset) - train_set_size\n",
    "\n",
    "training_set, validation_set = random_split(train_dataset,[train_set_size, valid_set_size])\n",
    "\n",
    "# train_subset = Subset(training_set,range(100))\n",
    "# val_subset = Subset(validation_set,range(20))\n",
    "\n",
    "training_loader = DataLoader(training_set,batch_size = 32, shuffle = True,num_workers = 3)\n",
    "validation_loader = DataLoader(validation_set,batch_size = 32,num_workers = 3)\n",
    "test_loader = DataLoader(test_dataset,batch_size = 32)"
   ]
  },
  {
   "cell_type": "code",
   "execution_count": 10,
   "metadata": {
    "execution": {
     "iopub.execute_input": "2025-04-17T18:29:16.142155Z",
     "iopub.status.busy": "2025-04-17T18:29:16.141429Z",
     "iopub.status.idle": "2025-04-17T18:29:16.155841Z",
     "shell.execute_reply": "2025-04-17T18:29:16.155228Z",
     "shell.execute_reply.started": "2025-04-17T18:29:16.142131Z"
    },
    "trusted": true
   },
   "outputs": [],
   "source": [
    "class CNN(nn.Module):\n",
    "    def __init__(self,\n",
    "                 input_dim,\n",
    "                 output_num_classes,\n",
    "                 activation_fn = 'ReLU',\n",
    "                 num_layers = 5,\n",
    "                 num_filters = 64,\n",
    "                 filter_sizes = 3,\n",
    "                 conv_padding = [0,0,0,0,0],\n",
    "                 conv_strides = 1,\n",
    "                 pooling_filter_sizes = 3,\n",
    "                 pooling_strides = 1,\n",
    "                 pooling_padding = [0,0,0,0,0],\n",
    "                 num_dense_neurons = 128,\n",
    "                 add_batchNorm = True,\n",
    "                 add_dropout = True,\n",
    "                 dl_dropout_prob = 0.5,\n",
    "                 ap_dropout_prob=0.2):\n",
    "        '''\n",
    "        Params:\n",
    "            input_shape: the shape of the input image\n",
    "            output_num_classes: Number of classes in multiclass classification\n",
    "            num_layers: Total number of \"convolution - activation - pooling\" layers\n",
    "            num_filters: (int/list): Total number of filters in each conv layers\n",
    "            filter_sizes: (int/list): Size of filters in each conv layer\n",
    "            conv_padding: (int/list): Padding in each conv layer\n",
    "            conv_strides: (int/list)\n",
    "            pooling_filter_sizes: (int/list)\n",
    "            pooling_strides: (int/list)\n",
    "            pooling_padding: (int/list)\n",
    "            dl_dropout_prob: Dropout probability in the dense layers in CNN architecture\n",
    "            ap_dropout_prob: Dropout probability after the pooling layer in CNN architecture \n",
    "            add_batchNorm: Add Batch Normalisation in the architecture\n",
    "        '''\n",
    "        super().__init__()\n",
    "\n",
    "        if isinstance(num_filters,int):\n",
    "            self.num_filters = [num_filters] * num_layers\n",
    "        elif isinstance(num_filters,list):\n",
    "            self.num_filters = num_filters\n",
    "        else:\n",
    "            raise ValueError(\"num_filters should be either of type int or list\")\n",
    "\n",
    "        if isinstance(filter_sizes,int):\n",
    "            self.filter_sizes = [filter_sizes] * num_layers\n",
    "        elif isinstance(filter_sizes,list):\n",
    "            self.filter_sizes = filter_sizes\n",
    "        else:\n",
    "            raise ValueError(\"filter_sizes should be either of type int or list\")\n",
    "\n",
    "        if isinstance(conv_padding,int):\n",
    "            self.conv_padding = [conv_padding] * num_layers\n",
    "        elif isinstance(conv_padding,list):\n",
    "            self.conv_padding = conv_padding\n",
    "        else:\n",
    "            raise ValueError(\"conv_padding should be either of type int or list\")\n",
    "\n",
    "        if isinstance(conv_strides,int):\n",
    "            self.conv_strides = [conv_strides] * num_layers\n",
    "        elif isinstance(conv_strides,list):\n",
    "            self.conv_strides = conv_strides\n",
    "        else:\n",
    "            raise ValueError(\"conv_strides should be either of type int or list\")\n",
    "\n",
    "        if isinstance(pooling_filter_sizes,int):\n",
    "            self.pooling_filter_sizes = [pooling_filter_sizes] * num_layers\n",
    "        elif isinstance(pooling_filter_sizes,list):\n",
    "            self.conv_strides = pooling_filter_sizes\n",
    "        else:\n",
    "            raise ValueError(\"pooling_filter_sizes should be either of type int or list\")\n",
    "\n",
    "        if isinstance(pooling_strides,int):\n",
    "            self.pooling_strides = [pooling_strides] * num_layers\n",
    "        elif isinstance(pooling_strides,list):\n",
    "            self.pooling_strides = pooling_strides\n",
    "        else:\n",
    "            raise ValueError(\"pooling_strides should be either of type int or list\")\n",
    "\n",
    "        if isinstance(pooling_padding,int):\n",
    "            self.pooling_padding = [pooling_padding] * num_layers\n",
    "        elif isinstance(pooling_padding,list):\n",
    "            self.pooling_padding = pooling_padding\n",
    "        else:\n",
    "            raise ValueError(\"pooling_padding should be either of type int or list\")\n",
    "\n",
    "        self.activation_fn = None\n",
    "\n",
    "        if activation_fn == 'ReLU':\n",
    "            self.activation_fn = nn.ReLU\n",
    "        elif activation_fn=='GELU':\n",
    "            self.activation_fn = nn.GELU\n",
    "        elif activation_fn == 'SiLU':\n",
    "            self.activation_fn = nn.SiLU\n",
    "        elif activation_fn == 'Mish':\n",
    "            self.activation_fn = nn.Mish\n",
    "        else: \n",
    "            raise ValueError(f\"{activation_fn} is not supported\")\n",
    "        \n",
    "        layers = []\n",
    "        dimensions = input_dim\n",
    "        for i in range(num_layers):\n",
    "            if i!=0 and add_dropout:\n",
    "                layers.append(nn.Dropout(p=ap_dropout_prob))\n",
    "            \n",
    "            layers.append(nn.Conv2d(dimensions[0],self.num_filters[i],self.filter_sizes[i],self.conv_strides[i],self.conv_padding[i]))\n",
    "            \n",
    "            if add_batchNorm:\n",
    "                layers.append(nn.BatchNorm2d(self.num_filters[i]))\n",
    "            \n",
    "            height = (dimensions[1] + 2 * self.conv_padding[i] - self.filter_sizes[i])//self.conv_strides[i] + 1\n",
    "            width = (dimensions[2] + 2 * self.conv_padding[i] - self.filter_sizes[i])//self.conv_strides[i] + 1\n",
    "            dimensions = (self.num_filters[i],height,width)\n",
    "\n",
    "            layers.append(self.activation_fn())\n",
    "            layers.append(nn.MaxPool2d(self.pooling_filter_sizes[i],self.pooling_strides[i], self.pooling_padding[i]))\n",
    "\n",
    "            height = (dimensions[1] + 2 * self.pooling_padding[i] - self.pooling_filter_sizes[i])//self.pooling_strides[i] + 1\n",
    "            width = (dimensions[2] + 2 * self.pooling_padding[i] - self.pooling_filter_sizes[i])//self.pooling_strides[i] + 1\n",
    "            dimensions = (self.num_filters[i],height,width)\n",
    "\n",
    "\n",
    "        self.features = nn.Sequential(\n",
    "            *layers,\n",
    "            nn.Flatten()\n",
    "        )\n",
    "\n",
    "        classifier_layers = []\n",
    "        if add_dropout:\n",
    "            classifier_layers.append(nn.Dropout(p = dl_dropout_prob))\n",
    "        classifier_layers.append(nn.Linear(dimensions[0]*dimensions[1]*dimensions[2],num_dense_neurons))\n",
    "        if add_batchNorm:\n",
    "            classifier_layers.append(nn.BatchNorm1d(num_dense_neurons))\n",
    "        classifier_layers.append(self.activation_fn())\n",
    "        classifier_layers.append(nn.Linear(num_dense_neurons,output_num_classes))\n",
    "        self.classifier = nn.Sequential(\n",
    "            *classifier_layers             \n",
    "        )\n",
    "    def forward(self,X):\n",
    "        return self.classifier(self.features(X))"
   ]
  },
  {
   "cell_type": "code",
   "execution_count": 11,
   "metadata": {
    "execution": {
     "iopub.execute_input": "2025-04-17T18:29:20.694262Z",
     "iopub.status.busy": "2025-04-17T18:29:20.693557Z",
     "iopub.status.idle": "2025-04-17T18:29:20.702472Z",
     "shell.execute_reply": "2025-04-17T18:29:20.701615Z",
     "shell.execute_reply.started": "2025-04-17T18:29:20.694236Z"
    },
    "trusted": true
   },
   "outputs": [],
   "source": [
    "class LitCNN(L.LightningModule):\n",
    "    def __init__(self,\n",
    "                 input_dim = (3,256,256),\n",
    "                 output_num_classes = 10,\n",
    "                 activation_fn = 'ReLU',\n",
    "                 num_layers = 5,\n",
    "                 num_filters = 64,\n",
    "                 filter_sizes = 3,\n",
    "                 conv_padding = [0,0,0,0,0],\n",
    "                 conv_strides = 1,\n",
    "                 pooling_filter_sizes = 3,\n",
    "                 pooling_strides = 1,\n",
    "                 pooling_padding = [0,0,0,0,0],\n",
    "                 num_dense_neurons = 128,\n",
    "                 add_batchNorm = True,\n",
    "                 add_dropout = True,\n",
    "                 dl_dropout_prob = 0.5,\n",
    "                 ap_dropout_prob=0.2,\n",
    "                 lr=1e-4):\n",
    "        super().__init__()\n",
    "        self.cnn = CNN(\n",
    "            input_dim,\n",
    "            output_num_classes,\n",
    "            activation_fn,\n",
    "            num_layers,\n",
    "            num_filters,\n",
    "            filter_sizes,\n",
    "            conv_padding,\n",
    "            conv_strides,\n",
    "            pooling_filter_sizes,\n",
    "            pooling_strides,\n",
    "            pooling_padding,\n",
    "            num_dense_neurons,\n",
    "            add_batchNorm,\n",
    "            add_dropout,\n",
    "            dl_dropout_prob,\n",
    "            ap_dropout_prob,\n",
    "        )\n",
    "        self.loss = CrossEntropyLoss()\n",
    "\n",
    "        self.lr = lr\n",
    "        \n",
    "        self.save_hyperparameters()\n",
    "        \n",
    "    def training_step(self,batch,batch_idx):\n",
    "        _,loss,acc = self._get_preds_loss_accuracy(batch)\n",
    "\n",
    "        #Log loss and metric\n",
    "        self.log('train_loss',loss,sync_dist=True)\n",
    "        self.log('train_accuracy',acc,sync_dist=True)\n",
    "\n",
    "        # print(\"train_loss\", loss)\n",
    "        # print(\"train_accuracy\",acc)\n",
    "\n",
    "        return loss\n",
    "\n",
    "    def test_step(self,batch,batch_idx):\n",
    "        _, loss,acc = self._get_preds_loss_accuracy(batch)\n",
    "\n",
    "        #Log loss and Metric\n",
    "        self.log('test_loss',loss,sync_dist=True)\n",
    "        self.log('test_accuracy',acc,sync_dist=True)\n",
    "        \n",
    "    def validation_step(self,batch,batch_idx):\n",
    "        preds,loss,acc = self._get_preds_loss_accuracy(batch)\n",
    "\n",
    "        # Log loss and metric\n",
    "        self.log('val_loss', loss,sync_dist=True)\n",
    "        self.log('val_accuracy',acc,sync_dist=True)\n",
    "\n",
    "        return preds\n",
    "    \n",
    "    def configure_optimizers(self):\n",
    "        optimizer = torch.optim.Adam(self.cnn.parameters(),lr = self.lr)\n",
    "        return optimizer\n",
    "\n",
    "    def _get_preds_loss_accuracy(self,batch):\n",
    "        images,labels = batch\n",
    "        logits = self.cnn(images)\n",
    "        preds = torch.argmax(logits,dim=1)\n",
    "        loss = self.loss(logits, labels)\n",
    "        acc = accuracy(preds,labels,'multiclass', num_classes = 10)\n",
    "        return preds, loss, acc"
   ]
  },
  {
   "cell_type": "code",
   "execution_count": 13,
   "metadata": {
    "execution": {
     "iopub.execute_input": "2025-04-17T18:29:32.440935Z",
     "iopub.status.busy": "2025-04-17T18:29:32.440337Z",
     "iopub.status.idle": "2025-04-17T18:29:34.093575Z",
     "shell.execute_reply": "2025-04-17T18:29:34.092823Z",
     "shell.execute_reply.started": "2025-04-17T18:29:32.440912Z"
    },
    "trusted": true
   },
   "outputs": [],
   "source": [
    "model = LitCNN(\n",
    "    input_dim = (3,256,256),\n",
    "    output_num_classes = 10,\n",
    "    activation_fn = 'ReLU',\n",
    "    num_layers = 5,\n",
    "    num_filters = [96, 64, 64, 32, 16],\n",
    "    filter_sizes = 3,\n",
    "    conv_padding = [0,0,0,0,0],\n",
    "    conv_strides = [2,2,1,1,1],\n",
    "    pooling_filter_sizes = 3,\n",
    "    pooling_strides = 1,\n",
    "    pooling_padding = [0,0,0,0,0],\n",
    "    num_dense_neurons = 128,\n",
    "    add_batchNorm = True,\n",
    "    add_dropout = True,\n",
    "    dl_dropout_prob = 0.5,\n",
    "    ap_dropout_prob=0.1,\n",
    "    lr = 1e-4\n",
    ")\n",
    "model = torch.compile(model)"
   ]
  },
  {
   "cell_type": "code",
   "execution_count": 14,
   "metadata": {
    "execution": {
     "iopub.execute_input": "2025-04-17T18:29:37.315330Z",
     "iopub.status.busy": "2025-04-17T18:29:37.315013Z",
     "iopub.status.idle": "2025-04-17T18:29:37.320611Z",
     "shell.execute_reply": "2025-04-17T18:29:37.319891Z",
     "shell.execute_reply.started": "2025-04-17T18:29:37.315301Z"
    },
    "trusted": true
   },
   "outputs": [],
   "source": [
    "class LogPredictionsCallback(Callback):\n",
    "    def on_validation_batch_end(\n",
    "        self, trainer,pl_module,outputs,batch,batch_idx\n",
    "    ):\n",
    "        if batch_idx == 0:\n",
    "            no_samples = 20\n",
    "            images,labels = batch\n",
    "\n",
    "            columns = ['Image', 'Ground Truth', 'prediction']\n",
    "            data = [[wandb.Image(x_i), y_i, y_pred] for x_i,y_i,y_pred in list(zip(images[:no_samples], labels[:no_samples],outputs[:no_samples]))]\n",
    "            wandb_logger.log_table(key = 'Prediction on Validation Set', columns = columns, data = data)\n",
    "\n"
   ]
  },
  {
   "cell_type": "code",
   "execution_count": 15,
   "metadata": {
    "execution": {
     "iopub.execute_input": "2025-04-17T18:29:40.352807Z",
     "iopub.status.busy": "2025-04-17T18:29:40.352145Z",
     "iopub.status.idle": "2025-04-17T18:29:40.356716Z",
     "shell.execute_reply": "2025-04-17T18:29:40.356090Z",
     "shell.execute_reply.started": "2025-04-17T18:29:40.352785Z"
    },
    "trusted": true
   },
   "outputs": [],
   "source": [
    "def create_cnn_sweep_config_name(config):\n",
    "    return (\n",
    "        f\"nl{config.num_layers}_\"\n",
    "        f\"nf{config.num_filters}_\"\n",
    "        f\"act{config.activation_fn}_\"\n",
    "        f\"fs{config.filter_sizes}_\"\n",
    "        f\"cp{config.conv_padding}_\"\n",
    "        f\"cs{config.conv_strides}_\"\n",
    "        f\"pfs{config.pooling_filter_sizes}_\"\n",
    "        f\"ps{config.pooling_strides}_\"\n",
    "        f\"pp{config.pooling_padding}_\"\n",
    "        f\"dense{config.num_dense_neurons}_\"\n",
    "        f\"do{int(config.add_dropout)}_\"\n",
    "        f\"dl_do{config.dl_dropout_prob}_\"\n",
    "        f\"ap_do{config.ap_dropout_prob}_\"\n",
    "        f\"bn{int(config.add_batchNorm)}_\"\n",
    "        f\"ep{config.max_epochs}_\"\n",
    "        f\"lr{config.lr:.0e}\"\n",
    "    )\n"
   ]
  },
  {
   "cell_type": "code",
   "execution_count": 16,
   "metadata": {
    "execution": {
     "iopub.execute_input": "2025-04-17T18:29:45.966543Z",
     "iopub.status.busy": "2025-04-17T18:29:45.966310Z",
     "iopub.status.idle": "2025-04-17T18:29:45.972641Z",
     "shell.execute_reply": "2025-04-17T18:29:45.971924Z",
     "shell.execute_reply.started": "2025-04-17T18:29:45.966525Z"
    },
    "trusted": true
   },
   "outputs": [],
   "source": [
    "def main(config = None):\n",
    "    wandb.init(project = \"da6401_assignment2\",\n",
    "               config = config)\n",
    "    config = wandb.config\n",
    "    config_group = create_cnn_sweep_config_name(config)\n",
    "    wandb.config.update({\"config_group\": config_group}, allow_val_change=True)\n",
    "    wandb.run.name = name=f\"{config_group}_run_{uuid.uuid4().hex[:4]}\"\n",
    "    \n",
    "    wandb_logger = WandbLogger(project = \"da6401_assignment2\")\n",
    "    \n",
    "    model = LitCNN(\n",
    "        input_dim = (3,256,256),\n",
    "        output_num_classes = 10,\n",
    "        activation_fn = config.activation_fn,\n",
    "        num_layers = config.num_layers,\n",
    "        num_filters = config.num_filters,\n",
    "        filter_sizes = config.filter_sizes,\n",
    "        conv_padding = config.conv_padding,\n",
    "        conv_strides = config.conv_strides,\n",
    "        pooling_filter_sizes = config.pooling_filter_sizes,\n",
    "        pooling_strides = config.pooling_strides,\n",
    "        pooling_padding = config.pooling_padding,\n",
    "        num_dense_neurons = config.num_dense_neurons,\n",
    "        add_batchNorm = config.add_batchNorm,\n",
    "        add_dropout = config.add_dropout,\n",
    "        dl_dropout_prob = config.dl_dropout_prob,\n",
    "        ap_dropout_prob=config.ap_dropout_prob,\n",
    "        lr = config.lr\n",
    "    )\n",
    "    model = torch.compile(model)\n",
    "\n",
    "    # log_predictions_callback = LogPredictionsCallback()\n",
    "    # checkpoint_callback = ModelCheckpoint(monitor='val_accuracy', mode='max')\n",
    "\n",
    "    trainer = Trainer(\n",
    "        logger = wandb_logger,\n",
    "        callbacks = [EarlyStopping(monitor=\"val_accuracy\", mode = \"max\",patience=4)],\n",
    "        max_epochs = config.max_epochs,\n",
    "        precision=\"16-mixed\",\n",
    "        devices = 2,\n",
    "    )\n",
    "    \n",
    "    trainer.fit(model,training_loader,validation_loader)\n",
    "    wandb.finish()\n",
    "\n",
    "    "
   ]
  },
  {
   "cell_type": "code",
   "execution_count": null,
   "metadata": {
    "execution": {
     "iopub.execute_input": "2025-04-17T18:46:01.687814Z",
     "iopub.status.busy": "2025-04-17T18:46:01.687461Z",
     "iopub.status.idle": "2025-04-17T18:46:01.697742Z",
     "shell.execute_reply": "2025-04-17T18:46:01.696822Z",
     "shell.execute_reply.started": "2025-04-17T18:46:01.687779Z"
    },
    "trusted": true
   },
   "outputs": [],
   "source": [
    "sweep_config = {\n",
    "    \"name\": \"Hyperparameter Sweep for same filter sizes\",\n",
    "    \"method\": \"bayes\",\n",
    "    \"metric\": {\n",
    "        \"name\": \"val_accuracy\",\n",
    "        \"goal\": \"maximize\"\n",
    "    },\n",
    "    \"parameters\": {\n",
    "        \"num_layers\": {\n",
    "            \"value\": 5\n",
    "        },\n",
    "        \"activation_fn\":{\n",
    "            \"values\":[\"ReLU\", \"GELU\",\"SiLU\",\"Mish\"]\n",
    "        },\n",
    "        \"add_data_augmentation\":{\n",
    "              \"values\":[True, False]  \n",
    "        },    \n",
    "        \"num_filters\": {\n",
    "            \"values\": [\n",
    "                16,\n",
    "                32,\n",
    "                64,\n",
    "                # [16, 32, 64, 128, 256],\n",
    "                # [32, 64, 128, 256, 512],\n",
    "                [256, 128, 64, 32, 16],\n",
    "                [512, 256, 128, 64, 32]\n",
    "            ]\n",
    "        },\n",
    "        \"filter_sizes\": {\n",
    "            \"values\": [3, 5]\n",
    "        },\n",
    "        \"conv_padding\": {\n",
    "            \"values\": [0, 1, 2]\n",
    "        },\n",
    "        \"conv_strides\": {\n",
    "            \"values\": [1]\n",
    "        },\n",
    "        \"pooling_filter_sizes\": {\n",
    "            \"values\": [3, 5]\n",
    "        },\n",
    "        \"pooling_strides\": {\n",
    "            \"values\": [1, 2]\n",
    "        },\n",
    "        \"pooling_padding\": {\n",
    "            \"values\": [0, 1 ]\n",
    "        },\n",
    "        \"num_dense_neurons\": {\n",
    "            \"values\": [64, 128, 256, 512]\n",
    "        },\n",
    "        \"add_dropout\":{\n",
    "          \"values\":[True, False]  \n",
    "        },\n",
    "        \"dl_dropout_prob\": {\n",
    "            \"distribution\": \"uniform\",\n",
    "            \"min\": 0.3,\n",
    "            \"max\": 0.7\n",
    "        },\n",
    "        \"ap_dropout_prob\": {\n",
    "            \"distribution\": \"uniform\",\n",
    "            \"min\": 0.0,\n",
    "            \"max\": 0.3\n",
    "        },\n",
    "        \"add_batchNorm\": {\n",
    "            \"values\": [True, False]\n",
    "        },\n",
    "        \"max_epochs\":{\n",
    "            \"values\":[10,15]\n",
    "        },\n",
    "        \"lr\": {\n",
    "            \"distribution\": \"log_uniform_values\",\n",
    "            \"min\": 1e-5,\n",
    "            \"max\": 1e-3\n",
    "        }\n",
    "    },\n",
    "    \"early_terminate\": {\n",
    "        \"type\": \"hyperband\",\n",
    "        \"min_iter\": 3,\n",
    "        \"eta\": 2\n",
    "    }\n",
    "}"
   ]
  },
  {
   "cell_type": "code",
   "execution_count": 25,
   "metadata": {
    "execution": {
     "iopub.execute_input": "2025-04-17T18:46:03.144925Z",
     "iopub.status.busy": "2025-04-17T18:46:03.144217Z",
     "iopub.status.idle": "2025-04-17T18:46:04.870727Z",
     "shell.execute_reply": "2025-04-17T18:46:04.870117Z",
     "shell.execute_reply.started": "2025-04-17T18:46:03.144901Z"
    },
    "trusted": true
   },
   "outputs": [
    {
     "name": "stdout",
     "output_type": "stream",
     "text": [
      "Create sweep with ID: bwsgamay\n",
      "Sweep URL: https://wandb.ai/rohitrk06-indian-institute-of-technology-madras/da6401_assignment2/sweeps/bwsgamay\n"
     ]
    }
   ],
   "source": [
    "sweep_id = wandb.sweep(sweep_config,project=\"da6401_assignment2\")"
   ]
  },
  {
   "cell_type": "code",
   "execution_count": 26,
   "metadata": {
    "execution": {
     "iopub.execute_input": "2025-04-17T18:46:10.454070Z",
     "iopub.status.busy": "2025-04-17T18:46:10.453345Z",
     "iopub.status.idle": "2025-04-17T18:58:20.685489Z",
     "shell.execute_reply": "2025-04-17T18:58:20.684536Z",
     "shell.execute_reply.started": "2025-04-17T18:46:10.454045Z"
    },
    "trusted": true
   },
   "outputs": [
    {
     "name": "stderr",
     "output_type": "stream",
     "text": [
      "\u001b[34m\u001b[1mwandb\u001b[0m: Agent Starting Run: muhdxj9e with config:\n",
      "\u001b[34m\u001b[1mwandb\u001b[0m: \tactivation_fn: GELU\n",
      "\u001b[34m\u001b[1mwandb\u001b[0m: \tadd_batchNorm: True\n",
      "\u001b[34m\u001b[1mwandb\u001b[0m: \tadd_dropout: True\n",
      "\u001b[34m\u001b[1mwandb\u001b[0m: \tap_dropout_prob: 0.2750528465012813\n",
      "\u001b[34m\u001b[1mwandb\u001b[0m: \tconv_padding: 2\n",
      "\u001b[34m\u001b[1mwandb\u001b[0m: \tconv_strides: 1\n",
      "\u001b[34m\u001b[1mwandb\u001b[0m: \tdl_dropout_prob: 0.6853927157157438\n",
      "\u001b[34m\u001b[1mwandb\u001b[0m: \tfilter_sizes: 3\n",
      "\u001b[34m\u001b[1mwandb\u001b[0m: \tlr: 0.00030405777641535464\n",
      "\u001b[34m\u001b[1mwandb\u001b[0m: \tmax_epochs: 10\n",
      "\u001b[34m\u001b[1mwandb\u001b[0m: \tnum_dense_neurons: 256\n",
      "\u001b[34m\u001b[1mwandb\u001b[0m: \tnum_filters: [256, 128, 64, 32, 16]\n",
      "\u001b[34m\u001b[1mwandb\u001b[0m: \tnum_layers: 5\n",
      "\u001b[34m\u001b[1mwandb\u001b[0m: \tpooling_filter_sizes: 3\n",
      "\u001b[34m\u001b[1mwandb\u001b[0m: \tpooling_padding: 1\n",
      "\u001b[34m\u001b[1mwandb\u001b[0m: \tpooling_strides: 2\n"
     ]
    },
    {
     "data": {
      "text/html": [
       "Ignoring project 'da6401_assignment2' when running a sweep."
      ],
      "text/plain": [
       "<IPython.core.display.HTML object>"
      ]
     },
     "metadata": {},
     "output_type": "display_data"
    },
    {
     "data": {
      "text/html": [
       "Tracking run with wandb version 0.19.9"
      ],
      "text/plain": [
       "<IPython.core.display.HTML object>"
      ]
     },
     "metadata": {},
     "output_type": "display_data"
    },
    {
     "data": {
      "text/html": [
       "Run data is saved locally in <code>/kaggle/working/wandb/run-20250417_184617-muhdxj9e</code>"
      ],
      "text/plain": [
       "<IPython.core.display.HTML object>"
      ]
     },
     "metadata": {},
     "output_type": "display_data"
    },
    {
     "data": {
      "text/html": [
       "Syncing run <strong><a href='https://wandb.ai/rohitrk06-indian-institute-of-technology-madras/da6401_assignment2/runs/muhdxj9e' target=\"_blank\">skilled-sweep-1</a></strong> to <a href='https://wandb.ai/rohitrk06-indian-institute-of-technology-madras/da6401_assignment2' target=\"_blank\">Weights & Biases</a> (<a href='https://wandb.me/developer-guide' target=\"_blank\">docs</a>)<br>Sweep page: <a href='https://wandb.ai/rohitrk06-indian-institute-of-technology-madras/da6401_assignment2/sweeps/bwsgamay' target=\"_blank\">https://wandb.ai/rohitrk06-indian-institute-of-technology-madras/da6401_assignment2/sweeps/bwsgamay</a>"
      ],
      "text/plain": [
       "<IPython.core.display.HTML object>"
      ]
     },
     "metadata": {},
     "output_type": "display_data"
    },
    {
     "data": {
      "text/html": [
       " View project at <a href='https://wandb.ai/rohitrk06-indian-institute-of-technology-madras/da6401_assignment2' target=\"_blank\">https://wandb.ai/rohitrk06-indian-institute-of-technology-madras/da6401_assignment2</a>"
      ],
      "text/plain": [
       "<IPython.core.display.HTML object>"
      ]
     },
     "metadata": {},
     "output_type": "display_data"
    },
    {
     "data": {
      "text/html": [
       " View sweep at <a href='https://wandb.ai/rohitrk06-indian-institute-of-technology-madras/da6401_assignment2/sweeps/bwsgamay' target=\"_blank\">https://wandb.ai/rohitrk06-indian-institute-of-technology-madras/da6401_assignment2/sweeps/bwsgamay</a>"
      ],
      "text/plain": [
       "<IPython.core.display.HTML object>"
      ]
     },
     "metadata": {},
     "output_type": "display_data"
    },
    {
     "data": {
      "text/html": [
       " View run at <a href='https://wandb.ai/rohitrk06-indian-institute-of-technology-madras/da6401_assignment2/runs/muhdxj9e' target=\"_blank\">https://wandb.ai/rohitrk06-indian-institute-of-technology-madras/da6401_assignment2/runs/muhdxj9e</a>"
      ],
      "text/plain": [
       "<IPython.core.display.HTML object>"
      ]
     },
     "metadata": {},
     "output_type": "display_data"
    },
    {
     "name": "stderr",
     "output_type": "stream",
     "text": [
      "INFO: Using 16bit Automatic Mixed Precision (AMP)\n",
      "INFO: You are using the plain ModelCheckpoint callback. Consider using LitModelCheckpoint which with seamless uploading to Model registry.\n",
      "INFO: GPU available: True (cuda), used: True\n",
      "INFO: TPU available: False, using: 0 TPU cores\n",
      "INFO: HPU available: False, using: 0 HPUs\n",
      "INFO: Initializing distributed: GLOBAL_RANK: 0, MEMBER: 1/2\n",
      "INFO: Initializing distributed: GLOBAL_RANK: 1, MEMBER: 2/2\n",
      "INFO: ----------------------------------------------------------------------------------------------------\n",
      "distributed_backend=nccl\n",
      "All distributed processes registered. Starting with 2 processes\n",
      "----------------------------------------------------------------------------------------------------\n",
      "\n",
      "/usr/local/lib/python3.11/dist-packages/lightning/pytorch/loggers/wandb.py:397: There is a wandb run already in progress and newly created instances of `WandbLogger` will reuse this run. If this is not desired, call `wandb.finish()` before instantiating `WandbLogger`.\n",
      "INFO: LOCAL_RANK: 0 - CUDA_VISIBLE_DEVICES: [0,1]\n",
      "INFO: LOCAL_RANK: 1 - CUDA_VISIBLE_DEVICES: [0,1]\n",
      "INFO: \n",
      "  | Name | Type             | Params | Mode \n",
      "--------------------------------------------------\n",
      "0 | cnn  | CNN              | 813 K  | train\n",
      "1 | loss | CrossEntropyLoss | 0      | train\n",
      "--------------------------------------------------\n",
      "813 K     Trainable params\n",
      "0         Non-trainable params\n",
      "813 K     Total params\n",
      "3.252     Total estimated model params size (MB)\n",
      "34        Modules in train mode\n",
      "0         Modules in eval mode\n"
     ]
    },
    {
     "data": {
      "application/vnd.jupyter.widget-view+json": {
       "model_id": "",
       "version_major": 2,
       "version_minor": 0
      },
      "text/plain": [
       "Sanity Checking: |          | 0/? [00:00<?, ?it/s]"
      ]
     },
     "metadata": {},
     "output_type": "display_data"
    },
    {
     "data": {
      "application/vnd.jupyter.widget-view+json": {
       "model_id": "ffcb6dc50ed74a56b4d89796c2a93436",
       "version_major": 2,
       "version_minor": 0
      },
      "text/plain": [
       "Training: |          | 0/? [00:00<?, ?it/s]"
      ]
     },
     "metadata": {},
     "output_type": "display_data"
    },
    {
     "data": {
      "application/vnd.jupyter.widget-view+json": {
       "model_id": "",
       "version_major": 2,
       "version_minor": 0
      },
      "text/plain": [
       "Validation: |          | 0/? [00:00<?, ?it/s]"
      ]
     },
     "metadata": {},
     "output_type": "display_data"
    },
    {
     "data": {
      "application/vnd.jupyter.widget-view+json": {
       "model_id": "",
       "version_major": 2,
       "version_minor": 0
      },
      "text/plain": [
       "Validation: |          | 0/? [00:00<?, ?it/s]"
      ]
     },
     "metadata": {},
     "output_type": "display_data"
    },
    {
     "data": {
      "application/vnd.jupyter.widget-view+json": {
       "model_id": "",
       "version_major": 2,
       "version_minor": 0
      },
      "text/plain": [
       "Validation: |          | 0/? [00:00<?, ?it/s]"
      ]
     },
     "metadata": {},
     "output_type": "display_data"
    },
    {
     "data": {
      "application/vnd.jupyter.widget-view+json": {
       "model_id": "",
       "version_major": 2,
       "version_minor": 0
      },
      "text/plain": [
       "Validation: |          | 0/? [00:00<?, ?it/s]"
      ]
     },
     "metadata": {},
     "output_type": "display_data"
    },
    {
     "data": {
      "application/vnd.jupyter.widget-view+json": {
       "model_id": "",
       "version_major": 2,
       "version_minor": 0
      },
      "text/plain": [
       "Validation: |          | 0/? [00:00<?, ?it/s]"
      ]
     },
     "metadata": {},
     "output_type": "display_data"
    },
    {
     "data": {
      "application/vnd.jupyter.widget-view+json": {
       "model_id": "",
       "version_major": 2,
       "version_minor": 0
      },
      "text/plain": [
       "Validation: |          | 0/? [00:00<?, ?it/s]"
      ]
     },
     "metadata": {},
     "output_type": "display_data"
    },
    {
     "data": {
      "application/vnd.jupyter.widget-view+json": {
       "model_id": "",
       "version_major": 2,
       "version_minor": 0
      },
      "text/plain": [
       "Validation: |          | 0/? [00:00<?, ?it/s]"
      ]
     },
     "metadata": {},
     "output_type": "display_data"
    },
    {
     "data": {
      "application/vnd.jupyter.widget-view+json": {
       "model_id": "",
       "version_major": 2,
       "version_minor": 0
      },
      "text/plain": [
       "Validation: |          | 0/? [00:00<?, ?it/s]"
      ]
     },
     "metadata": {},
     "output_type": "display_data"
    },
    {
     "data": {
      "application/vnd.jupyter.widget-view+json": {
       "model_id": "",
       "version_major": 2,
       "version_minor": 0
      },
      "text/plain": [
       "Validation: |          | 0/? [00:00<?, ?it/s]"
      ]
     },
     "metadata": {},
     "output_type": "display_data"
    },
    {
     "data": {
      "application/vnd.jupyter.widget-view+json": {
       "model_id": "",
       "version_major": 2,
       "version_minor": 0
      },
      "text/plain": [
       "Validation: |          | 0/? [00:00<?, ?it/s]"
      ]
     },
     "metadata": {},
     "output_type": "display_data"
    },
    {
     "name": "stderr",
     "output_type": "stream",
     "text": [
      "INFO: `Trainer.fit` stopped: `max_epochs=10` reached.\n"
     ]
    },
    {
     "data": {
      "text/html": [],
      "text/plain": [
       "<IPython.core.display.HTML object>"
      ]
     },
     "metadata": {},
     "output_type": "display_data"
    },
    {
     "data": {
      "text/html": [
       "<br>    <style><br>        .wandb-row {<br>            display: flex;<br>            flex-direction: row;<br>            flex-wrap: wrap;<br>            justify-content: flex-start;<br>            width: 100%;<br>        }<br>        .wandb-col {<br>            display: flex;<br>            flex-direction: column;<br>            flex-basis: 100%;<br>            flex: 1;<br>            padding: 10px;<br>        }<br>    </style><br><div class=\"wandb-row\"><div class=\"wandb-col\"><h3>Run history:</h3><br/><table class=\"wandb\"><tr><td>epoch</td><td>▁▁▁▂▂▂▂▃▃▃▃▃▃▃▄▄▄▅▅▅▅▆▆▆▆▆▆▆▇▇▇████</td></tr><tr><td>train_accuracy</td><td>▁▃▃▃▄▄▅▃█▅▇▆▆▆▇▆▅▇▅▅█▆▆▆▇</td></tr><tr><td>train_loss</td><td>█▆█▆▆▇▄▇▃▄▃▄▂▄▅▄▃▁▅▃▂▂▃▂▂</td></tr><tr><td>trainer/global_step</td><td>▁▁▁▂▂▂▂▂▃▃▃▃▄▄▄▄▄▅▅▅▅▅▆▆▆▆▇▇▇▇▇▇███</td></tr><tr><td>val_accuracy</td><td>▁▂▂▃▅▃▇▄█▄</td></tr><tr><td>val_loss</td><td>██▇▆▅▅▃▇▁▆</td></tr></table><br/></div><div class=\"wandb-col\"><h3>Run summary:</h3><br/><table class=\"wandb\"><tr><td>epoch</td><td>9</td></tr><tr><td>train_accuracy</td><td>0.42188</td></tr><tr><td>train_loss</td><td>1.70184</td></tr><tr><td>trainer/global_step</td><td>1249</td></tr><tr><td>val_accuracy</td><td>0.26</td></tr><tr><td>val_loss</td><td>2.07203</td></tr></table><br/></div></div>"
      ],
      "text/plain": [
       "<IPython.core.display.HTML object>"
      ]
     },
     "metadata": {},
     "output_type": "display_data"
    },
    {
     "data": {
      "text/html": [
       " View run <strong style=\"color:#cdcd00\">nl5_nf[256, 128, 64, 32, 16]_actGELU_fs3_cp2_cs1_pfs3_ps2_pp1_dense256_do1_dl_do0.6853927157157438_ap_do0.2750528465012813_bn1_ep10_lr3e-04_run_960b</strong> at: <a href='https://wandb.ai/rohitrk06-indian-institute-of-technology-madras/da6401_assignment2/runs/muhdxj9e' target=\"_blank\">https://wandb.ai/rohitrk06-indian-institute-of-technology-madras/da6401_assignment2/runs/muhdxj9e</a><br> View project at: <a href='https://wandb.ai/rohitrk06-indian-institute-of-technology-madras/da6401_assignment2' target=\"_blank\">https://wandb.ai/rohitrk06-indian-institute-of-technology-madras/da6401_assignment2</a><br>Synced 5 W&B file(s), 0 media file(s), 0 artifact file(s) and 0 other file(s)"
      ],
      "text/plain": [
       "<IPython.core.display.HTML object>"
      ]
     },
     "metadata": {},
     "output_type": "display_data"
    },
    {
     "data": {
      "text/html": [
       "Find logs at: <code>./wandb/run-20250417_184617-muhdxj9e/logs</code>"
      ],
      "text/plain": [
       "<IPython.core.display.HTML object>"
      ]
     },
     "metadata": {},
     "output_type": "display_data"
    }
   ],
   "source": [
    "wandb.agent(sweep_id,main,count=1)"
   ]
  }
 ],
 "metadata": {
  "kaggle": {
   "accelerator": "nvidiaTeslaT4",
   "dataSources": [
    {
     "datasetId": 7172061,
     "sourceId": 11447708,
     "sourceType": "datasetVersion"
    }
   ],
   "dockerImageVersionId": 31011,
   "isGpuEnabled": true,
   "isInternetEnabled": true,
   "language": "python",
   "sourceType": "notebook"
  },
  "kernelspec": {
   "display_name": "Python 3",
   "language": "python",
   "name": "python3"
  },
  "language_info": {
   "codemirror_mode": {
    "name": "ipython",
    "version": 3
   },
   "file_extension": ".py",
   "mimetype": "text/x-python",
   "name": "python",
   "nbconvert_exporter": "python",
   "pygments_lexer": "ipython3",
   "version": "3.11.11"
  }
 },
 "nbformat": 4,
 "nbformat_minor": 4
}
